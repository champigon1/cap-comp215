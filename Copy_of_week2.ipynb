{
  "cells": [
    {
      "cell_type": "markdown",
      "metadata": {
        "id": "view-in-github",
        "colab_type": "text"
      },
      "source": [
        "<a href=\"https://colab.research.google.com/github/champigon1/cap-comp215/blob/main/Copy_of_week2.ipynb\" target=\"_parent\"><img src=\"https://colab.research.google.com/assets/colab-badge.svg\" alt=\"Open In Colab\"/></a>"
      ]
    },
    {
      "cell_type": "markdown",
      "metadata": {
        "id": "WBMC0GrjNRTM"
      },
      "source": [
        "# Sequence and Map data structures - Strings, Tuples, Lists, Dictionaries\n",
        "Our week 2 lesson workbook, available on Github from the powderflask/cap-comp215 repository.\n",
        "\n",
        "As usual, the first code block just imports the modules we will use."
      ]
    },
    {
      "cell_type": "code",
      "execution_count": null,
      "metadata": {
        "id": "C1a6aDXAM0WM"
      },
      "outputs": [],
      "source": [
        "import datetime\n",
        "import matplotlib.pyplot as plt\n",
        "import  matplotlib.dates as mdates\n",
        "from pprint import pprint"
      ]
    },
    {
      "cell_type": "markdown",
      "metadata": {
        "collapsed": false,
        "id": "d566fdaybxBA"
      },
      "source": [
        "## f-strings\n",
        "A `string` is a sequence of characters / symbols.\n",
        "This familiar data structure is quite powerful, and format-strings (f-strings) take it to the next level...."
      ]
    },
    {
      "cell_type": "code",
      "execution_count": null,
      "metadata": {
        "id": "JogHGmTsbxBA",
        "outputId": "44079d83-66da-4861-f211-a7fe55275780"
      },
      "outputs": [
        {
          "data": {
            "text/plain": "'{today} is not special, but {the_answer} and {PI} are!'"
          },
          "execution_count": 29,
          "metadata": {},
          "output_type": "execute_result"
        }
      ],
      "source": [
        "today = datetime.date.today()\n",
        "the_answer = 42\n",
        "PI = 3.1415926535\n",
        "\n",
        "'{today} is not special, but {the_answer} and {PI} are!'"
      ]
    },
    {
      "cell_type": "markdown",
      "metadata": {
        "id": "k70NJ-JTNwYN"
      },
      "source": [
        "## List Comprehension\n",
        "Provides a compact syntax for two very common sequence-processing algorithms:  Map  and Filter\n",
        "\n",
        "Basic syntax:"
      ]
    },
    {
      "cell_type": "code",
      "execution_count": null,
      "metadata": {
        "colab": {
          "base_uri": "https://localhost:8080/"
        },
        "id": "HZSz8IftqJ72",
        "outputId": "69064158-b016-4775-f630-91ba0e8aa267"
      },
      "outputs": [
        {
          "data": {
            "text/plain": [
              "[0,\n",
              " 25,\n",
              " 100,\n",
              " 225,\n",
              " 400,\n",
              " 625,\n",
              " 900,\n",
              " 1225,\n",
              " 1600,\n",
              " 2025,\n",
              " 2500,\n",
              " 3025,\n",
              " 3600,\n",
              " 4225,\n",
              " 4900,\n",
              " 5625,\n",
              " 6400,\n",
              " 7225,\n",
              " 8100,\n",
              " 9025]"
            ]
          },
          "execution_count": 1,
          "metadata": {},
          "output_type": "execute_result"
        }
      ],
      "source": [
        "[i**2 for i in range(100) if i%5==0]"
      ]
    },
    {
      "cell_type": "markdown",
      "metadata": {
        "collapsed": false,
        "id": "RBkAec5SbxBC"
      },
      "source": [
        "### Map Algorithm\n",
        "Apply the same function to every item in another sequence (i.e., provide a \"mapping\" from the source sequence to the target"
      ]
    },
    {
      "cell_type": "code",
      "execution_count": null,
      "metadata": {
        "colab": {
          "base_uri": "https://localhost:8080/"
        },
        "id": "hLJpAPd8bxBC",
        "outputId": "7e41c827-4e95-46c7-e640-bdcbd91c2676"
      },
      "outputs": [
        {
          "data": {
            "text/plain": [
              "[1, 4, 9, 16, 25, 36, 49, 64, 81]"
            ]
          },
          "execution_count": 2,
          "metadata": {},
          "output_type": "execute_result"
        }
      ],
      "source": [
        "[i**2 for i in range (1,11) ]"
      ]
    },
    {
      "cell_type": "markdown",
      "metadata": {
        "collapsed": false,
        "id": "TfkUxzy8bxBC"
      },
      "source": [
        "### Filter\n",
        "Select a sub-set of the elements from another sequence based on some criteria."
      ]
    },
    {
      "cell_type": "code",
      "execution_count": null,
      "metadata": {
        "colab": {
          "base_uri": "https://localhost:8080/",
          "height": 52
        },
        "id": "6mQBnALebxBD",
        "outputId": "b183482a-4e3b-4ed4-d9a4-e65a0c399a1a"
      },
      "outputs": [
        {
          "data": {
            "application/vnd.google.colaboratory.intrinsic+json": {
              "type": "string"
            },
            "text/plain": [
              "'o, e, i, u, o, o, i, a, e, o, e, e, u, a, i, i, i, e, i, e, o, e, i, u, o, e, o, i, i, i, u, u, a, o, e, e, o, o, e, a, a, a, i, u, a, e, i, a, i, i, e, i, a, u, i, o, u, e, e, i, a, i, o, u, a, o, a, o, i, i, i, u, a, i, u, i, e, e, a, o, o, o, o, e, u, a'"
            ]
          },
          "execution_count": 11,
          "metadata": {},
          "output_type": "execute_result"
        }
      ],
      "source": [
        "VOWELS = 'aeiou'\n",
        "text = '''\n",
        "Lorem ipsum dolor sit amet, consectetur adipiscing elit, sed do eiusmod tempor incididunt ut labore et dolore magna aliqua. Ut enim ad minim veniam, quis nostrud exercitation ullamco laboris nisi ut aliquip ex ea commodo consequat.\n",
        "'''\n",
        "', '.join([_ for _ in text if _ in VOWELS])\n"
      ]
    },
    {
      "cell_type": "markdown",
      "metadata": {
        "collapsed": false,
        "id": "2RY18RbibxBD"
      },
      "source": [
        "## Data Wrangling with List Comprehension\n",
        "E-learn's Live Quiz module does track quiz scores for each student, but does not store them in the gradebook,\n",
        "and it reports on them in the most useless way.\n",
        "\n",
        "Let's do some \"data wrangling\" to make sense out of this mess!\n",
        "\n",
        "### The Problem: Unstructured Data!\n",
        "Notice it is just a single large string!  The real data set has 36 students, and I need to do this every week!"
      ]
    },
    {
      "cell_type": "code",
      "execution_count": null,
      "metadata": {
        "id": "URcXfZDvbxBD",
        "outputId": "a93de0fa-001f-4ba6-aa8c-a3c7886fcf75"
      },
      "outputs": [
        {
          "data": {
            "text/plain": "'\\n  1.                 Ali Oop scored  7/ 8 = 87%\\n\\n\\n  2.          Alison Ralison scored  8/ 8 = 100%\\n\\n\\n  3.         Ambily Piturbed scored  8/ 8 = 100%\\n\\n\\n  4.  Arshan Risnot Farquared scored  5/ 8 = 62%\\n\\n\\n  5.       Ayushma Jugernaugh scored  5/ 8 = 62%\\n\\n\\n  6.       Brayden Labaguette scored  7/ 8 = 87%\\n'"
          },
          "execution_count": 32,
          "metadata": {},
          "output_type": "execute_result"
        }
      ],
      "source": [
        "\"\"\"\n",
        "  1.                 Ali Oop scored  7/ 8 = 87%\n",
        "\n",
        "\n",
        "  2.          Alison Ralison scored  8/ 8 = 100%\n",
        "\n",
        "\n",
        "  3.         Ambily Piturbed scored  8/ 8 = 100%\n",
        "\n",
        "\n",
        "  4.  Arshan Risnot Farquared scored  5/ 8 = 62%\n",
        "\n",
        "\n",
        "  5.       Ayushma Jugernaugh scored  5/ 8 = 62%\n",
        "\n",
        "\n",
        "  6.       Brayden Labaguette scored  7/ 8 = 87%\n",
        "\"\"\"\n"
      ]
    },
    {
      "cell_type": "markdown",
      "metadata": {
        "collapsed": false,
        "id": "E1ZNMiEJbxBE"
      },
      "source": [
        "### Goal\n",
        "Turn this into structured data: a list of 2-tuples, each student's full name and their integer score."
      ]
    },
    {
      "cell_type": "code",
      "execution_count": null,
      "metadata": {
        "colab": {
          "base_uri": "https://localhost:8080/"
        },
        "id": "gY_lhDJebxBE",
        "outputId": "b481bc65-2769-4e16-8cac-6fafaaa65e3d"
      },
      "outputs": [
        {
          "data": {
            "text/plain": [
              "[('Ali Oop', 7),\n",
              " ('Alison Ralison', 8),\n",
              " ('Ambily Piturbed', 8),\n",
              " ('Arshan Risnot Farquared', 5),\n",
              " ('Ayushma Jugernaugh', 5),\n",
              " ('Brayden Labaguette', 7)]"
            ]
          },
          "execution_count": 33,
          "metadata": {},
          "output_type": "execute_result"
        }
      ],
      "source": [
        "student=\"\"\"\n",
        "  1.                 Ali Oop scored  7/ 8 = 87%\n",
        "\n",
        "\n",
        "  2.          Alison Ralison scored  8/ 8 = 100%\n",
        "\n",
        "\n",
        "  3.         Ambily Piturbed scored  8/ 8 = 100%\n",
        "\n",
        "\n",
        "  4.  Arshan Risnot Farquared scored  5/ 8 = 62%\n",
        "\n",
        "\n",
        "  5.       Ayushma Jugernaugh scored  5/ 8 = 62%\n",
        "\n",
        "\n",
        "  6.       Brayden Labaguette scored  7/ 8 = 87%\n",
        "\"\"\"\n",
        "students= [s.split() for s in student.split('\\n') if s!='']\n",
        "scores = [int(s[-4].rstrip('/')) for s in students]\n",
        "names = [' '.join(s[1:-5]) for s in students]\n",
        "list(zip(names,scores))\n"
      ]
    },
    {
      "cell_type": "markdown",
      "metadata": {
        "collapsed": false,
        "id": "i9XIoxpFbxBE"
      },
      "source": [
        "## Records\n",
        "A *record* is a compound data value - a collection of simpler data values (fields) that all describe a single entity.\n",
        "\n",
        " * tuple\n",
        " * dictionary\n",
        " * object\n",
        "\n",
        "Problem: develop the data representation for a `student` in a student record system,\n",
        "where a `student` has a first and last name, student id, and date of birth"
      ]
    },
    {
      "cell_type": "code",
      "execution_count": 1,
      "metadata": {
        "colab": {
          "base_uri": "https://localhost:8080/",
          "height": 159
        },
        "id": "Ai9qb3Bolw4h",
        "outputId": "ebc061ef-85a5-429f-e0f2-7ffb24831a27"
      },
      "outputs": [
        {
          "output_type": "error",
          "ename": "SyntaxError",
          "evalue": "unterminated string literal (detected at line 6) (<ipython-input-1-9e851f0bbee7>, line 6)",
          "traceback": [
            "\u001b[0;36m  File \u001b[0;32m\"<ipython-input-1-9e851f0bbee7>\"\u001b[0;36m, line \u001b[0;32m6\u001b[0m\n\u001b[0;31m    last\" : \"kalra \"\u001b[0m\n\u001b[0m                   ^\u001b[0m\n\u001b[0;31mSyntaxError\u001b[0m\u001b[0;31m:\u001b[0m unterminated string literal (detected at line 6)\n"
          ]
        }
      ],
      "source": [
        "# Tuple\n",
        "(\"sukhmandeep singh\", \"Kalra\" , 100173422, 29-11-2002)\n",
        "# Dictionary\n",
        "[\n",
        "    \"name\":\"sukhmandeep singh \"\n",
        "    last\" : \"kalra \"\n",
        "    student no : 100173422\n",
        "    dateofb : 29-11-2002\n",
        "]\n",
        "# Object\n",
        "class Student:\n",
        "    def name(self, first_name, last_name, student_id, date_of_birth):\n",
        "        self.first_name = first_name\n",
        "        self.last_name = last_name\n",
        "        self.student_id = student_id\n",
        "        self.date_of_birth = date_of_birth\n",
        "\n",
        "student_object = Student(\"Sukhmandeep Singh\", \"Kalra\", 100173422, \"29-11-2002\")\n"
      ]
    },
    {
      "cell_type": "code",
      "execution_count": null,
      "metadata": {
        "id": "Hwa2ZR6obxBE"
      },
      "outputs": [],
      "source": []
    }
  ],
  "metadata": {
    "colab": {
      "provenance": [],
      "include_colab_link": true
    },
    "kernelspec": {
      "display_name": "Python 3",
      "name": "python3"
    },
    "language_info": {
      "name": "python"
    }
  },
  "nbformat": 4,
  "nbformat_minor": 0
}